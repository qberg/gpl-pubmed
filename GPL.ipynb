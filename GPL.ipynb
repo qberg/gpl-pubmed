{
  "cells": [
    {
      "cell_type": "code",
      "execution_count": null,
      "metadata": {
        "id": "iSapF6kEcvrE"
      },
      "outputs": [],
      "source": [
        "from google.colab import drive\n",
        "drive.mount('/content/drive', force_remount=True)"
      ]
    },
    {
      "cell_type": "code",
      "execution_count": null,
      "metadata": {
        "id": "KLZQoKDsdGzX"
      },
      "outputs": [],
      "source": [
        "!nvidia-smi"
      ]
    },
    {
      "cell_type": "code",
      "execution_count": null,
      "metadata": {
        "id": "5EeTB9U74hrG"
      },
      "outputs": [],
      "source": [
        "!ls"
      ]
    },
    {
      "cell_type": "code",
      "execution_count": null,
      "metadata": {
        "id": "pNjPXN_jdIrB"
      },
      "outputs": [],
      "source": [
        "import os\n",
        "root_dir = \"/content/drive/My Drive/gpl\"\n",
        "os.chdir(root_dir)\n",
        "!pwd"
      ]
    },
    {
      "cell_type": "code",
      "execution_count": null,
      "metadata": {
        "id": "LkxT-ptfdL6i"
      },
      "outputs": [],
      "source": [
        "!pip install datasets -q\n",
        "!pip install huggingface_hub -q\n",
        "!pip install transformers -q\n",
        "!pip install sentencepiece -q\n",
        "!pip install psutil -q"
      ]
    },
    {
      "cell_type": "code",
      "execution_count": null,
      "metadata": {
        "id": "v3QJZu3agEQg"
      },
      "outputs": [],
      "source": [
        "!pip install tensorflow-text -q"
      ]
    },
    {
      "cell_type": "code",
      "execution_count": null,
      "metadata": {
        "id": "fBQ-sI_D5Ifh"
      },
      "outputs": [],
      "source": [
        "!ls"
      ]
    },
    {
      "cell_type": "code",
      "execution_count": null,
      "metadata": {
        "colab": {
          "background_save": true
        },
        "id": "7CslRyQ6eGHr"
      },
      "outputs": [],
      "source": [
        "import gpl\n",
        "\n",
        "dataset = 'trec-covid'\n",
        "\n",
        "gpl.train(\n",
        "    path_to_generated_data=f'generated/{dataset}',\n",
        "    base_ckpt='qberg/gpl-23m-bio',\n",
        "    batch_size_gpl=32,\n",
        "    gpl_steps=140_000,\n",
        "    output_dir='./output/custom_model',\n",
        "    generator='BeIR/query-gen-msmarco-t5-base-v1',\n",
        "    retrievers=[\n",
        "        'msmarco-distilbert-base-v3',\n",
        "        'msmarco-MiniLM-L-6-v3'\n",
        "    ],\n",
        "    cross_encoder='cross-encoder/ms-marco-MiniLM-L-6-v2',\n",
        "    qgen_prefix='qgen',\n",
        "    do_evaluation=False\n",
        ")"
      ]
    },
    {
      "cell_type": "code",
      "execution_count": null,
      "metadata": {
        "id": "PS4aI5Z4edY9"
      },
      "outputs": [],
      "source": []
    }
  ],
  "metadata": {
    "accelerator": "GPU",
    "colab": {
      "machine_shape": "hm",
      "provenance": []
    },
    "kernelspec": {
      "display_name": "Python 3",
      "name": "python3"
    },
    "language_info": {
      "name": "python"
    }
  },
  "nbformat": 4,
  "nbformat_minor": 0
}